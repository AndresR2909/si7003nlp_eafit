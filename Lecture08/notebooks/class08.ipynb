{
  "cells": [
    {
      "cell_type": "code",
      "execution_count": null,
      "metadata": {
        "id": "sSUoHE5d2X2T"
      },
      "outputs": [],
      "source": [
        "#\n",
        "# Universidad EAFIT \n",
        "# 2025-1\n",
        "# SI7003 - NLP - Lecture 07\n",
        "#"
      ]
    },
    {
      "cell_type": "markdown",
      "metadata": {},
      "source": [
        "# Ejemplo 1: Creación de un Agente LLM en Python"
      ]
    },
    {
      "cell_type": "code",
      "execution_count": null,
      "metadata": {},
      "outputs": [],
      "source": [
        "# instalar dependencias\n",
        "%pip install langchain openai faiss-cpu"
      ]
    },
    {
      "cell_type": "code",
      "execution_count": null,
      "metadata": {},
      "outputs": [],
      "source": [
        "# Configuración del Agente con LangChain\n",
        "\n",
        "from langchain.chat_models import ChatOpenAI\n",
        "from langchain.agents import initialize_agent, AgentType\n",
        "from langchain.tools import Tool\n",
        "from langchain.memory import ConversationBufferMemory\n",
        "\n",
        "# Configuración de modelo LLM\n",
        "llm = ChatOpenAI(model_name=\"gpt-4\", temperature=0.7)\n",
        "\n",
        "# Memoria del agente\n",
        "memory = ConversationBufferMemory(memory_key=\"chat_history\", return_messages=True)\n",
        "\n",
        "# Herramienta personalizada (Ejemplo: búsqueda en Wikipedia)\n",
        "def search_wikipedia(query):\n",
        "    from langchain.utilities import WikipediaAPIWrapper\n",
        "    wiki = WikipediaAPIWrapper()\n",
        "    return wiki.run(query)\n",
        "\n",
        "tool = Tool(\n",
        "    name=\"Wikipedia\",\n",
        "    func=search_wikipedia,\n",
        "    description=\"Busca información en Wikipedia.\"\n",
        ")\n",
        "\n",
        "# Inicialización del agente\n",
        "agent = initialize_agent(\n",
        "    tools=[tool],\n",
        "    llm=llm,\n",
        "    agent=AgentType.CONVERSATIONAL_REACT_DESCRIPTION,\n",
        "    memory=memory,\n",
        "    verbose=True\n",
        ")\n",
        "\n",
        "# Ejemplo de interacción\n",
        "print(agent.run(\"¿Quién fue Alan Turing?\"))\n"
      ]
    },
    {
      "cell_type": "markdown",
      "metadata": {},
      "source": [
        "# Ejemplo 2: Agente con Razonamiento y Planificación"
      ]
    },
    {
      "cell_type": "code",
      "execution_count": null,
      "metadata": {},
      "outputs": [],
      "source": [
        "%pip install google-search-results\n",
        "\n",
        "# Este agente puede recibir objetivos y descomponerlos en tareas usando un marco de planificación.\n",
        "\n",
        "# se requiere la API KEY de SerpAPI - https://serpapi.\n",
        "\n",
        "# realice el registro en línea, tiene 100 busquedas gratuitas al men, uso no comercial\n",
        "\n",
        "# crera la variable con el valor SERPAPI_API_KEY\n",
        "\n",
        "# en el bash shell:\n",
        "\n",
        "# bash$ set SERPAPI_API_KEY=123...232\n",
        "# bash$ export SERPAPI_API_KEY\n",
        "# bash$ echo $SERPAPI_API_KEY\n",
        "# 123...232\n",
        "\n",
        "#import os\n",
        "#os.environ[\"SERPAPI_API_KEY\"] = \"TU_CLAVE_API\"\n",
        "\n",
        "\n",
        "\n",
        "from langchain.schema import SystemMessage\n",
        "from langchain.agents import load_tools\n",
        "\n",
        "tools = load_tools([\"serpapi\"])  # Agregar herramientas como búsqueda web\n",
        "\n",
        "# Prompt de agente con planificación\n",
        "system_message = SystemMessage(\n",
        "    content=\"Eres un agente de IA que descompone problemas complejos en pasos más pequeños y ejecuta acciones.\"\n",
        ")\n",
        "\n",
        "# Crear agente con planificación\n",
        "agent_executor = initialize_agent(\n",
        "    tools=tools,\n",
        "    llm=llm,\n",
        "    agent=AgentType.ZERO_SHOT_REACT_DESCRIPTION,\n",
        "    verbose=True\n",
        ")\n",
        "\n",
        "# Ejecutar agente\n",
        "result = agent_executor.run(\"Encuentra las últimas noticias sobre inteligencia artificial.\")\n",
        "print(result)\n",
        "\n"
      ]
    },
    {
      "cell_type": "code",
      "execution_count": null,
      "metadata": {},
      "outputs": [],
      "source": [
        "%pip install openai-agents"
      ]
    },
    {
      "cell_type": "code",
      "execution_count": null,
      "metadata": {},
      "outputs": [],
      "source": [
        "from agents import Agent, Runner\n",
        "\n",
        "agent = Agent(name=\"Assistant\", instructions=\"You are a helpful assistant\")\n",
        "\n",
        "# Intended for Jupyter notebooks where there's an existing event loop\n",
        "result = await Runner.run(agent, \"Write a haiku about recursion in programming.\")  # type: ignore[top-level-await]  # noqa: F704\n",
        "print(result.final_output)\n",
        "\n",
        "# Code within code loops,\n",
        "# Infinite mirrors reflect—\n",
        "# Logic folds on self."
      ]
    },
    {
      "cell_type": "code",
      "execution_count": null,
      "metadata": {},
      "outputs": [],
      "source": [
        "# funciona como un programa aparte: ejemplo.py\n",
        "from agents import Agent, Runner\n",
        "\n",
        "agent = Agent(name=\"Assistant\", instructions=\"You are a helpful assistant\")\n",
        "\n",
        "# Intended for Jupyter notebooks where there's an existing event loop\n",
        "result = await Runner.run(agent, \"Write a haiku about recursion in programming.\")  # type: ignore[top-level-await]  # noqa: F704\n",
        "print(result.final_output)\n",
        "\n",
        "# Code within code loops,\n",
        "# Infinite mirrors reflect—\n",
        "# Logic folds on self."
      ]
    },
    {
      "cell_type": "code",
      "execution_count": null,
      "metadata": {},
      "outputs": [],
      "source": [
        "import nest_asyncio\n",
        "import asyncio\n",
        "from agents import Agent, Runner\n",
        "\n",
        "print(dir(Runner))  # Verifica qué métodos están disponibles en Runner\n"
      ]
    },
    {
      "cell_type": "code",
      "execution_count": null,
      "metadata": {},
      "outputs": [],
      "source": [
        "# ejecución asincrónica dentro de notebook:\n",
        "\n",
        "import nest_asyncio\n",
        "#import asyncio\n",
        "from agents import Agent, Runner\n",
        "\n",
        "nest_asyncio.apply()  # Permite usar asyncio en Jupyter sin conflictos\n",
        "\n",
        "agent = Agent(name=\"Assistant\", instructions=\"You are a helpful assistant\")\n",
        "\n",
        "async def main():\n",
        "    result = await Runner.run(agent, \"Write a haiku about recursion in programming.\")\n",
        "    print(result.final_output)\n",
        "\n",
        "await main()  # Ejecutar directamente en Jupyter\n"
      ]
    },
    {
      "cell_type": "code",
      "execution_count": null,
      "metadata": {},
      "outputs": [],
      "source": [
        "import nest_asyncio\n",
        "nest_asyncio.apply()\n"
      ]
    },
    {
      "cell_type": "code",
      "execution_count": null,
      "metadata": {},
      "outputs": [],
      "source": [
        "import asyncio\n",
        "from agents import Agent, Runner\n",
        "\n",
        "agent = Agent(name=\"Assistant\", instructions=\"You are a helpful assistant\")\n",
        "\n",
        "async def main():\n",
        "    result = await Runner.run(agent, \"Write a haiku about recursion in programming.\")\n",
        "    print(result.final_output)\n",
        "\n",
        "asyncio.run(main())\n"
      ]
    },
    {
      "cell_type": "markdown",
      "metadata": {},
      "source": [
        "# Ejemplo 3 - instalación basica de llamaindex"
      ]
    },
    {
      "cell_type": "code",
      "execution_count": null,
      "metadata": {},
      "outputs": [],
      "source": [
        "%pip install llama-index-llms-huggingface-api llama-index-embeddings-huggingface\n"
      ]
    },
    {
      "cell_type": "code",
      "execution_count": null,
      "metadata": {},
      "outputs": [],
      "source": [
        "from llama_index.llms.huggingface_api import HuggingFaceInferenceAPI\n",
        "\n",
        "llm = HuggingFaceInferenceAPI(\n",
        "    model_name=\"Qwen/Qwen2.5-Coder-32B-Instruct\",\n",
        "    temperature=0.7,\n",
        "    max_tokens=100,\n",
        "    token=\"hf_xxx\",\n",
        ")\n",
        "\n",
        "llm.complete(\"Hello, how are you?\")\n",
        "# I am good, how can I help you today?"
      ]
    }
  ],
  "metadata": {
    "colab": {
      "name": "lab1-nltk.ipynb",
      "provenance": []
    },
    "kernelspec": {
      "display_name": "cs224n",
      "language": "python",
      "name": "python3"
    },
    "language_info": {
      "codemirror_mode": {
        "name": "ipython",
        "version": 3
      },
      "file_extension": ".py",
      "mimetype": "text/x-python",
      "name": "python",
      "nbconvert_exporter": "python",
      "pygments_lexer": "ipython3",
      "version": "3.12.8"
    }
  },
  "nbformat": 4,
  "nbformat_minor": 2
}

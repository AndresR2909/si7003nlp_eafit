{
  "cells": [
    {
      "cell_type": "code",
      "execution_count": null,
      "metadata": {
        "id": "sSUoHE5d2X2T"
      },
      "outputs": [],
      "source": [
        "#\n",
        "# Universidad EAFIT \n",
        "# 2025-1\n",
        "# SI7003 - NLP - Lecture 07\n",
        "#"
      ]
    },
    {
      "cell_type": "code",
      "execution_count": null,
      "metadata": {},
      "outputs": [
        {
          "name": "stderr",
          "output_type": "stream",
          "text": [
            "huggingface/tokenizers: The current process just got forked, after parallelism has already been used. Disabling parallelism to avoid deadlocks...\n",
            "To disable this warning, you can either:\n",
            "\t- Avoid using `tokenizers` before the fork if possible\n",
            "\t- Explicitly set the environment variable TOKENIZERS_PARALLELISM=(true | false)\n"
          ]
        },
        {
          "name": "stdout",
          "output_type": "stream",
          "text": [
            "Collecting tiktoken\n",
            "  Using cached tiktoken-0.9.0-cp312-cp312-macosx_11_0_arm64.whl.metadata (6.7 kB)\n",
            "Requirement already satisfied: regex>=2022.1.18 in /Users/andrestrepo/Documents/repos_personal/si7003nlp_eafit/.venv/lib/python3.12/site-packages (from tiktoken) (2024.11.6)\n",
            "Requirement already satisfied: requests>=2.26.0 in /Users/andrestrepo/Documents/repos_personal/si7003nlp_eafit/.venv/lib/python3.12/site-packages (from tiktoken) (2.32.3)\n",
            "Requirement already satisfied: charset-normalizer<4,>=2 in /Users/andrestrepo/Documents/repos_personal/si7003nlp_eafit/.venv/lib/python3.12/site-packages (from requests>=2.26.0->tiktoken) (3.4.1)\n",
            "Requirement already satisfied: idna<4,>=2.5 in /Users/andrestrepo/Documents/repos_personal/si7003nlp_eafit/.venv/lib/python3.12/site-packages (from requests>=2.26.0->tiktoken) (3.10)\n",
            "Requirement already satisfied: urllib3<3,>=1.21.1 in /Users/andrestrepo/Documents/repos_personal/si7003nlp_eafit/.venv/lib/python3.12/site-packages (from requests>=2.26.0->tiktoken) (2.3.0)\n",
            "Requirement already satisfied: certifi>=2017.4.17 in /Users/andrestrepo/Documents/repos_personal/si7003nlp_eafit/.venv/lib/python3.12/site-packages (from requests>=2.26.0->tiktoken) (2025.1.31)\n",
            "Using cached tiktoken-0.9.0-cp312-cp312-macosx_11_0_arm64.whl (1.0 MB)\n",
            "Installing collected packages: tiktoken\n",
            "Successfully installed tiktoken-0.9.0\n",
            "Note: you may need to restart the kernel to use updated packages.\n"
          ]
        }
      ],
      "source": [
        "# instalar dependencias\n",
        "#%pip install openai langchain langchain_community streamlit\n",
        "#%pip install faiss-cpu\n",
        "# instalar ChromaDB como retriever \n",
        "#%pip install chromadb\n",
        "#%pip install --index-url https://pypi.org/simple  openai langchain langchain_community streamlit faiss-cpu chromadb tiktoken"
      ]
    },
    {
      "cell_type": "code",
      "execution_count": 4,
      "metadata": {},
      "outputs": [
        {
          "name": "stderr",
          "output_type": "stream",
          "text": [
            "/var/folders/0z/3s22b27525jc3bm0m923h36h3wg489/T/ipykernel_24424/964916048.py:10: LangChainDeprecationWarning: The class `ChatOpenAI` was deprecated in LangChain 0.0.10 and will be removed in 1.0. An updated version of the class exists in the :class:`~langchain-openai package and should be used instead. To use it run `pip install -U :class:`~langchain-openai` and import as `from :class:`~langchain_openai import ChatOpenAI``.\n",
            "  llm = ChatOpenAI(model_name=\"gpt-4\")\n"
          ]
        }
      ],
      "source": [
        "# paso 1:\n",
        "import os\n",
        "from langchain.chat_models import ChatOpenAI\n",
        "\n",
        "# Configurar la API Key (puedes establecerla como variable de entorno)\n",
        "#os.environ[\"OPENAI_API_KEY\"] = \"your-openai-api-key\"\n",
        "# bash: export OPENAI_API_KEY=\"your-openai-api-key\"\n",
        "\n",
        "# Inicializar el modelo GPT-4\n",
        "llm = ChatOpenAI(model_name=\"gpt-4\")\n"
      ]
    },
    {
      "cell_type": "code",
      "execution_count": 5,
      "metadata": {},
      "outputs": [],
      "source": [
        "# Inicializar la Base de Datos Vectorial\n",
        "\n",
        "import chromadb\n",
        "\n",
        "# Inicializar la base de datos ChromaDB\n",
        "chroma_client = chromadb.PersistentClient(path=\"./chroma_db\")\n",
        "\n",
        "# Crear una colección en ChromaDB\n",
        "collection = chroma_client.get_or_create_collection(name=\"chatbot_knowledge\")\n",
        "\n",
        "#\n"
      ]
    },
    {
      "cell_type": "code",
      "execution_count": 6,
      "metadata": {},
      "outputs": [
        {
          "name": "stderr",
          "output_type": "stream",
          "text": [
            "/Users/andrestrepo/.cache/chroma/onnx_models/all-MiniLM-L6-v2/onnx.tar.gz: 100%|██████████| 79.3M/79.3M [00:05<00:00, 14.5MiB/s]\n"
          ]
        }
      ],
      "source": [
        "# Agregar Datos de Referencia a la Base de Datos\n",
        "\n",
        "documents = [\n",
        "    {\"id\": \"1\", \"text\": \"La inteligencia artificial es el campo de la informática que estudia cómo crear sistemas capaces de realizar tareas que requieren inteligencia humana.\"},\n",
        "    {\"id\": \"2\", \"text\": \"GPT-4 es un modelo de lenguaje de OpenAI basado en la arquitectura de transformers.\"},\n",
        "    {\"id\": \"3\", \"text\": \"LangChain es una biblioteca para desarrollar aplicaciones basadas en modelos de lenguaje.\"}\n",
        "]\n",
        "\n",
        "# Agregar documentos a ChromaDB\n",
        "for doc in documents:\n",
        "    collection.add(ids=[doc[\"id\"]], documents=[doc[\"text\"]])\n"
      ]
    },
    {
      "cell_type": "code",
      "execution_count": 7,
      "metadata": {},
      "outputs": [
        {
          "name": "stderr",
          "output_type": "stream",
          "text": [
            "/var/folders/0z/3s22b27525jc3bm0m923h36h3wg489/T/ipykernel_24424/789104924.py:7: LangChainDeprecationWarning: The class `OpenAIEmbeddings` was deprecated in LangChain 0.0.9 and will be removed in 1.0. An updated version of the class exists in the :class:`~langchain-openai package and should be used instead. To use it run `pip install -U :class:`~langchain-openai` and import as `from :class:`~langchain_openai import OpenAIEmbeddings``.\n",
            "  embeddings = OpenAIEmbeddings()\n",
            "/var/folders/0z/3s22b27525jc3bm0m923h36h3wg489/T/ipykernel_24424/789104924.py:10: LangChainDeprecationWarning: The class `Chroma` was deprecated in LangChain 0.2.9 and will be removed in 1.0. An updated version of the class exists in the :class:`~langchain-chroma package and should be used instead. To use it run `pip install -U :class:`~langchain-chroma` and import as `from :class:`~langchain_chroma import Chroma``.\n",
            "  vectorstore = Chroma(persist_directory=\"./chroma_db\", embedding_function=embeddings)\n"
          ]
        }
      ],
      "source": [
        "# Crear un Retriever con ChromaDB\n",
        "\n",
        "from langchain.vectorstores import Chroma\n",
        "from langchain.embeddings.openai import OpenAIEmbeddings\n",
        "\n",
        "# Inicializar embeddings con OpenAI\n",
        "embeddings = OpenAIEmbeddings()\n",
        "\n",
        "# Crear el VectorStore con ChromaDB\n",
        "vectorstore = Chroma(persist_directory=\"./chroma_db\", embedding_function=embeddings)\n",
        "\n",
        "# Crear el retriever para buscar documentos relevantes\n",
        "retriever = vectorstore.as_retriever()\n"
      ]
    },
    {
      "cell_type": "code",
      "execution_count": 8,
      "metadata": {},
      "outputs": [
        {
          "name": "stderr",
          "output_type": "stream",
          "text": [
            "/var/folders/0z/3s22b27525jc3bm0m923h36h3wg489/T/ipykernel_24424/2690817752.py:7: LangChainDeprecationWarning: Please see the migration guide at: https://python.langchain.com/docs/versions/migrating_memory/\n",
            "  memory = ConversationBufferMemory(memory_key=\"chat_history\", return_messages=True)\n"
          ]
        }
      ],
      "source": [
        "# paso 2\n",
        "\n",
        "from langchain.memory import ConversationBufferMemory\n",
        "from langchain.chains import ConversationalRetrievalChain\n",
        "\n",
        "# Crear memoria de la conversación\n",
        "memory = ConversationBufferMemory(memory_key=\"chat_history\", return_messages=True)\n",
        "\n",
        "# Integrar memoria en la cadena conversacional\n",
        "\n",
        "#chat_chain = ConversationalRetrievalChain.from_llm(llm, memory=memory)\n",
        "\n",
        "# fix con un retriever en chromadb\n",
        "chat_chain = ConversationalRetrievalChain.from_llm(llm, memory=memory,retriever=retriever)\n"
      ]
    },
    {
      "cell_type": "code",
      "execution_count": 9,
      "metadata": {},
      "outputs": [],
      "source": [
        "# Paso 3: Construir la Función del Chatbot\n",
        "\n",
        "def chat_with_gpt(user_input):\n",
        "    response = chat_chain({\"question\": user_input})\n",
        "    return response[\"answer\"]\n"
      ]
    },
    {
      "cell_type": "code",
      "execution_count": 13,
      "metadata": {},
      "outputs": [
        {
          "name": "stderr",
          "output_type": "stream",
          "text": [
            "huggingface/tokenizers: The current process just got forked, after parallelism has already been used. Disabling parallelism to avoid deadlocks...\n",
            "To disable this warning, you can either:\n",
            "\t- Avoid using `tokenizers` before the fork if possible\n",
            "\t- Explicitly set the environment variable TOKENIZERS_PARALLELISM=(true | false)\n"
          ]
        },
        {
          "name": "stdout",
          "output_type": "stream",
          "text": [
            "\u001b[0m\n",
            "\u001b[34m\u001b[1m  You can now view your Streamlit app in your browser.\u001b[0m\n",
            "\u001b[0m\n",
            "\u001b[34m  Local URL: \u001b[0m\u001b[1mhttp://localhost:8501\u001b[0m\n",
            "\u001b[34m  Network URL: \u001b[0m\u001b[1mhttp://10.161.40.245:8501\u001b[0m\n",
            "\u001b[0m\n",
            "\u001b[34m\u001b[1m  For better performance, install the Watchdog module:\u001b[0m\n",
            "\n",
            "  $ xcode-select --install\n",
            "  $ pip install watchdog\n",
            "            \u001b[0m\n",
            "/Users/andrestrepo/Documents/repos_personal/si7003nlp_eafit/.venv/lib/python3.12/site-packages/langchain/chat_models/__init__.py:33: LangChainDeprecationWarning: Importing chat models from langchain is deprecated. Importing from langchain will no longer be supported as of langchain==0.2.0. Please import from langchain-community instead:\n",
            "\n",
            "`from langchain_community.chat_models import ChatOpenAI`.\n",
            "\n",
            "To install langchain-community run `pip install -U langchain-community`.\n",
            "  warnings.warn(\n",
            "/Users/andrestrepo/Documents/repos_personal/si7003nlp_eafit/.venv/lib/python3.12/site-packages/langchain/chat_models/__init__.py:33: LangChainDeprecationWarning: Importing chat models from langchain is deprecated. Importing from langchain will no longer be supported as of langchain==0.2.0. Please import from langchain-community instead:\n",
            "\n",
            "`from langchain_community.chat_models import ChatOpenAI`.\n",
            "\n",
            "To install langchain-community run `pip install -U langchain-community`.\n",
            "  warnings.warn(\n",
            "/Users/andrestrepo/Documents/repos_personal/si7003nlp_eafit/Lecture07/notebooks/app.py:6: LangChainDeprecationWarning: Importing Chroma from langchain.vectorstores is deprecated. Please replace deprecated imports:\n",
            "\n",
            ">> from langchain.vectorstores import Chroma\n",
            "\n",
            "with new imports of:\n",
            "\n",
            ">> from langchain_community.vectorstores import Chroma\n",
            "You can use the langchain cli to **automatically** upgrade many imports. Please see documentation here <https://python.langchain.com/docs/versions/v0_2/>\n",
            "  from langchain.vectorstores import Chroma\n",
            "/Users/andrestrepo/Documents/repos_personal/si7003nlp_eafit/Lecture07/notebooks/app.py:7: LangChainDeprecationWarning: Importing OpenAIEmbeddings from langchain.embeddings is deprecated. Please replace deprecated imports:\n",
            "\n",
            ">> from langchain.embeddings import OpenAIEmbeddings\n",
            "\n",
            "with new imports of:\n",
            "\n",
            ">> from langchain_community.embeddings import OpenAIEmbeddings\n",
            "You can use the langchain cli to **automatically** upgrade many imports. Please see documentation here <https://python.langchain.com/docs/versions/v0_2/>\n",
            "  from langchain.embeddings.openai import OpenAIEmbeddings\n",
            "/Users/andrestrepo/Documents/repos_personal/si7003nlp_eafit/Lecture07/notebooks/app.py:21: LangChainDeprecationWarning: The class `OpenAIEmbeddings` was deprecated in LangChain 0.0.9 and will be removed in 1.0. An updated version of the class exists in the :class:`~langchain-openai package and should be used instead. To use it run `pip install -U :class:`~langchain-openai` and import as `from :class:`~langchain_openai import OpenAIEmbeddings``.\n",
            "  embeddings = OpenAIEmbeddings()\n",
            "/Users/andrestrepo/Documents/repos_personal/si7003nlp_eafit/Lecture07/notebooks/app.py:24: LangChainDeprecationWarning: The class `Chroma` was deprecated in LangChain 0.2.9 and will be removed in 1.0. An updated version of the class exists in the :class:`~langchain-chroma package and should be used instead. To use it run `pip install -U :class:`~langchain-chroma` and import as `from :class:`~langchain_chroma import Chroma``.\n",
            "  vectorstore = Chroma(persist_directory=\"./chroma_db\", embedding_function=embeddings)\n",
            "/Users/andrestrepo/Documents/repos_personal/si7003nlp_eafit/Lecture07/notebooks/app.py:33: LangChainDeprecationWarning: The class `ChatOpenAI` was deprecated in LangChain 0.0.10 and will be removed in 1.0. An updated version of the class exists in the :class:`~langchain-openai package and should be used instead. To use it run `pip install -U :class:`~langchain-openai` and import as `from :class:`~langchain_openai import ChatOpenAI``.\n",
            "  llm = ChatOpenAI(model_name=\"gpt-4\")\n",
            "/Users/andrestrepo/Documents/repos_personal/si7003nlp_eafit/Lecture07/notebooks/app.py:36: LangChainDeprecationWarning: Please see the migration guide at: https://python.langchain.com/docs/versions/migrating_memory/\n",
            "  memory = ConversationBufferMemory(memory_key=\"chat_history\", return_messages=True)\n",
            "/Users/andrestrepo/Documents/repos_personal/si7003nlp_eafit/.venv/lib/python3.12/site-packages/langchain/chat_models/__init__.py:33: LangChainDeprecationWarning: Importing chat models from langchain is deprecated. Importing from langchain will no longer be supported as of langchain==0.2.0. Please import from langchain-community instead:\n",
            "\n",
            "`from langchain_community.chat_models import ChatOpenAI`.\n",
            "\n",
            "To install langchain-community run `pip install -U langchain-community`.\n",
            "  warnings.warn(\n",
            "/Users/andrestrepo/Documents/repos_personal/si7003nlp_eafit/Lecture07/notebooks/app.py:6: LangChainDeprecationWarning: Importing Chroma from langchain.vectorstores is deprecated. Please replace deprecated imports:\n",
            "\n",
            ">> from langchain.vectorstores import Chroma\n",
            "\n",
            "with new imports of:\n",
            "\n",
            ">> from langchain_community.vectorstores import Chroma\n",
            "You can use the langchain cli to **automatically** upgrade many imports. Please see documentation here <https://python.langchain.com/docs/versions/v0_2/>\n",
            "  from langchain.vectorstores import Chroma\n",
            "/Users/andrestrepo/Documents/repos_personal/si7003nlp_eafit/Lecture07/notebooks/app.py:7: LangChainDeprecationWarning: Importing OpenAIEmbeddings from langchain.embeddings is deprecated. Please replace deprecated imports:\n",
            "\n",
            ">> from langchain.embeddings import OpenAIEmbeddings\n",
            "\n",
            "with new imports of:\n",
            "\n",
            ">> from langchain_community.embeddings import OpenAIEmbeddings\n",
            "You can use the langchain cli to **automatically** upgrade many imports. Please see documentation here <https://python.langchain.com/docs/versions/v0_2/>\n",
            "  from langchain.embeddings.openai import OpenAIEmbeddings\n",
            "/Users/andrestrepo/Documents/repos_personal/si7003nlp_eafit/Lecture07/notebooks/app.py:57: LangChainDeprecationWarning: The method `Chain.__call__` was deprecated in langchain 0.1.0 and will be removed in 1.0. Use :meth:`~invoke` instead.\n",
            "  response = chat_chain({\"question\": user_input})[\"answer\"]\n",
            "/Users/andrestrepo/Documents/repos_personal/si7003nlp_eafit/.venv/lib/python3.12/site-packages/langchain/chat_models/__init__.py:33: LangChainDeprecationWarning: Importing chat models from langchain is deprecated. Importing from langchain will no longer be supported as of langchain==0.2.0. Please import from langchain-community instead:\n",
            "\n",
            "`from langchain_community.chat_models import ChatOpenAI`.\n",
            "\n",
            "To install langchain-community run `pip install -U langchain-community`.\n",
            "  warnings.warn(\n",
            "/Users/andrestrepo/Documents/repos_personal/si7003nlp_eafit/Lecture07/notebooks/app.py:6: LangChainDeprecationWarning: Importing Chroma from langchain.vectorstores is deprecated. Please replace deprecated imports:\n",
            "\n",
            ">> from langchain.vectorstores import Chroma\n",
            "\n",
            "with new imports of:\n",
            "\n",
            ">> from langchain_community.vectorstores import Chroma\n",
            "You can use the langchain cli to **automatically** upgrade many imports. Please see documentation here <https://python.langchain.com/docs/versions/v0_2/>\n",
            "  from langchain.vectorstores import Chroma\n",
            "/Users/andrestrepo/Documents/repos_personal/si7003nlp_eafit/Lecture07/notebooks/app.py:7: LangChainDeprecationWarning: Importing OpenAIEmbeddings from langchain.embeddings is deprecated. Please replace deprecated imports:\n",
            "\n",
            ">> from langchain.embeddings import OpenAIEmbeddings\n",
            "\n",
            "with new imports of:\n",
            "\n",
            ">> from langchain_community.embeddings import OpenAIEmbeddings\n",
            "You can use the langchain cli to **automatically** upgrade many imports. Please see documentation here <https://python.langchain.com/docs/versions/v0_2/>\n",
            "  from langchain.embeddings.openai import OpenAIEmbeddings\n",
            "^C\n",
            "\u001b[34m  Stopping...\u001b[0m\n"
          ]
        }
      ],
      "source": [
        "# Ejecución del Chatbot\n",
        "#%pip install streamlit\n",
        "#%pip install tiktoken\n",
        "\n",
        "!streamlit run app.py\n"
      ]
    },
    {
      "cell_type": "code",
      "execution_count": null,
      "metadata": {},
      "outputs": [],
      "source": [
        "# mejoras propuestas\n",
        "\n",
        "# Agregar RAG (Retrieval-Augmented Generation) con bases de datos vectoriales y tus propios datos.\n",
        "# Integrar API externas (ejemplo: Wikipedia, bases de datos de conocimiento).\n",
        "# Incluir Voice-to-Text para hacer un chatbot por voz.\n"
      ]
    }
  ],
  "metadata": {
    "colab": {
      "name": "lab1-nltk.ipynb",
      "provenance": []
    },
    "kernelspec": {
      "display_name": ".venv",
      "language": "python",
      "name": "python3"
    },
    "language_info": {
      "codemirror_mode": {
        "name": "ipython",
        "version": 3
      },
      "file_extension": ".py",
      "mimetype": "text/x-python",
      "name": "python",
      "nbconvert_exporter": "python",
      "pygments_lexer": "ipython3",
      "version": "3.12.9"
    }
  },
  "nbformat": 4,
  "nbformat_minor": 2
}
